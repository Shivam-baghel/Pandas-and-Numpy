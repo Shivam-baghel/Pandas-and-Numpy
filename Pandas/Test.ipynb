{
 "cells": [
  {
   "cell_type": "code",
   "execution_count": 1,
   "metadata": {},
   "outputs": [],
   "source": [
    "import faker\n",
    "import random\n",
    "import datetime\n",
    "import numpy as np"
   ]
  },
  {
   "cell_type": "code",
   "execution_count": null,
   "metadata": {},
   "outputs": [],
   "source": [
    "fake = faker()\n",
    "for i in range(100):\n",
    "    data = {\n",
    "        \"Id\":i,\n",
    "        \"Date and Time\": datetime.datetime,\n",
    "        \"Temprature\": round(np.random.uniform(90,95),4)\n",
    "        \n",
    "    }"
   ]
  },
  {
   "cell_type": "code",
   "execution_count": 3,
   "metadata": {},
   "outputs": [
    {
     "ename": "MemoryError",
     "evalue": "",
     "output_type": "error",
     "traceback": [
      "\u001b[1;31m---------------------------------------------------------------------------\u001b[0m",
      "\u001b[1;31mMemoryError\u001b[0m                               Traceback (most recent call last)",
      "Cell \u001b[1;32mIn[3], line 20\u001b[0m\n\u001b[0;32m     17\u001b[0m     \u001b[39mreturn\u001b[39;00m sensor_data_types\n\u001b[0;32m     19\u001b[0m \u001b[39m# Generate data for 10 elevator trips\u001b[39;00m\n\u001b[1;32m---> 20\u001b[0m data \u001b[39m=\u001b[39m [generate_sensor_data() \u001b[39mfor\u001b[39;00m _ \u001b[39min\u001b[39;00m \u001b[39mrange\u001b[39m(\u001b[39m100000000\u001b[39m)]\n\u001b[0;32m     22\u001b[0m \u001b[39m# Create Pandas DataFrame from generated data\u001b[39;00m\n\u001b[0;32m     23\u001b[0m df \u001b[39m=\u001b[39m pd\u001b[39m.\u001b[39mDataFrame(data)\n",
      "Cell \u001b[1;32mIn[3], line 20\u001b[0m, in \u001b[0;36m<listcomp>\u001b[1;34m(.0)\u001b[0m\n\u001b[0;32m     17\u001b[0m     \u001b[39mreturn\u001b[39;00m sensor_data_types\n\u001b[0;32m     19\u001b[0m \u001b[39m# Generate data for 10 elevator trips\u001b[39;00m\n\u001b[1;32m---> 20\u001b[0m data \u001b[39m=\u001b[39m [generate_sensor_data() \u001b[39mfor\u001b[39;00m _ \u001b[39min\u001b[39;00m \u001b[39mrange\u001b[39m(\u001b[39m100000000\u001b[39m)]\n\u001b[0;32m     22\u001b[0m \u001b[39m# Create Pandas DataFrame from generated data\u001b[39;00m\n\u001b[0;32m     23\u001b[0m df \u001b[39m=\u001b[39m pd\u001b[39m.\u001b[39mDataFrame(data)\n",
      "Cell \u001b[1;32mIn[3], line 7\u001b[0m, in \u001b[0;36mgenerate_sensor_data\u001b[1;34m()\u001b[0m\n\u001b[0;32m      6\u001b[0m \u001b[39mdef\u001b[39;00m \u001b[39mgenerate_sensor_data\u001b[39m():\n\u001b[1;32m----> 7\u001b[0m     sensor_data_types \u001b[39m=\u001b[39m {\n\u001b[0;32m      8\u001b[0m         \u001b[39m\"\u001b[39m\u001b[39mtimestamp\u001b[39m\u001b[39m\"\u001b[39m: datetime\u001b[39m.\u001b[39mdatetime\u001b[39m.\u001b[39mnow(),\n\u001b[0;32m      9\u001b[0m         \u001b[39m\"\u001b[39m\u001b[39mcar_position\u001b[39m\u001b[39m\"\u001b[39m: random\u001b[39m.\u001b[39muniform(\u001b[39m0\u001b[39m, \u001b[39m100\u001b[39m),\n\u001b[0;32m     10\u001b[0m         \u001b[39m\"\u001b[39m\u001b[39mcar_speed\u001b[39m\u001b[39m\"\u001b[39m: random\u001b[39m.\u001b[39muniform(\u001b[39m-\u001b[39m\u001b[39m1\u001b[39m, \u001b[39m5\u001b[39m),\n\u001b[0;32m     11\u001b[0m         \u001b[39m\"\u001b[39m\u001b[39mdoor_open_time\u001b[39m\u001b[39m\"\u001b[39m: random\u001b[39m.\u001b[39muniform(\u001b[39m2\u001b[39m, \u001b[39m5\u001b[39m),\n\u001b[0;32m     12\u001b[0m         \u001b[39m\"\u001b[39m\u001b[39mmotor_temperature\u001b[39m\u001b[39m\"\u001b[39m: random\u001b[39m.\u001b[39muniform(\u001b[39m30\u001b[39m, \u001b[39m50\u001b[39m),\n\u001b[0;32m     13\u001b[0m         \u001b[39m\"\u001b[39m\u001b[39mcurrent_draw\u001b[39m\u001b[39m\"\u001b[39m: random\u001b[39m.\u001b[39muniform(\u001b[39m10\u001b[39m, \u001b[39m20\u001b[39m),\n\u001b[0;32m     14\u001b[0m         \u001b[39m\"\u001b[39m\u001b[39mpassenger_count\u001b[39m\u001b[39m\"\u001b[39m: random\u001b[39m.\u001b[39mrandint(\u001b[39m1\u001b[39m, \u001b[39m10\u001b[39m),\n\u001b[0;32m     15\u001b[0m         \u001b[39m\"\u001b[39m\u001b[39mfloor_call_button\u001b[39m\u001b[39m\"\u001b[39m: random\u001b[39m.\u001b[39mrandint(\u001b[39m1\u001b[39m, \u001b[39m10\u001b[39m),\n\u001b[0;32m     16\u001b[0m     }\n\u001b[0;32m     17\u001b[0m     \u001b[39mreturn\u001b[39;00m sensor_data_types\n",
      "\u001b[1;31mMemoryError\u001b[0m: "
     ]
    }
   ],
   "source": [
    "import pandas as pd\n",
    "import random\n",
    "import datetime\n",
    "\n",
    "# Function to generate fake sensor data\n",
    "def generate_sensor_data():\n",
    "    sensor_data_types = {\n",
    "        \"timestamp\": datetime.datetime.now(),\n",
    "        \"car_position\": random.uniform(0, 100),\n",
    "        \"car_speed\": random.uniform(-1, 5),\n",
    "        \"door_open_time\": random.uniform(2, 5),\n",
    "        \"motor_temperature\": random.uniform(30, 50),\n",
    "        \"current_draw\": random.uniform(10, 20),\n",
    "        \"passenger_count\": random.randint(1, 10),\n",
    "        \"floor_call_button\": random.randint(1, 10),\n",
    "    }\n",
    "    return sensor_data_types\n",
    "\n",
    "# Generate data for 10 elevator trips\n",
    "data = [generate_sensor_data() for _ in range(100000000)]\n",
    "\n",
    "# Create Pandas DataFrame from generated data\n",
    "df = pd.DataFrame(data)\n",
    "df\n",
    "# timestmp = datetime.datetime.now().strftime(\"%d-%m-%Y\")\n",
    "# # Define CSV file path\n",
    "# csv_file_path = str(timestmp)+\"-elevator_data.csv\"\n",
    "# print(csv_file_path)\n",
    "# # Export DataFrame to CSV file\n",
    "# df.to_csv(csv_file_path, index=False)\n",
    "\n",
    "# print(f\"Data successfully written to: {csv_file_path}\")"
   ]
  },
  {
   "cell_type": "code",
   "execution_count": null,
   "metadata": {},
   "outputs": [],
   "source": [
    "import pandas as pd\n",
    "import random\n",
    "import datetime\n",
    "from scipy.stats import norm\n",
    "\n",
    "# Define sensor data types and corresponding normal distributions\n",
    "sensor_data_types = {\n",
    "    \"timestamp\": datetime.datetime.now(),\n",
    "    \"car_position\": norm(loc=50, scale=10),  # Normally distributed around floor 50 with SD 10\n",
    "    \"car_speed\": norm(loc=0, scale=0.5),  # Normally distributed around 0 speed with SD 0.5\n",
    "    \"door_open_time\": norm(loc=3.5, scale=0.5),  # Normally distributed around 3.5 seconds with SD 0.5\n",
    "    \"motor_temperature\": norm(loc=40, scale=2),  # Normally distributed around 40 degrees with SD 2\n",
    "    \"current_draw\": norm(loc=15, scale=2),  # Normally distributed around 15 amps with SD 2\n",
    "    \"passenger_count\": norm(loc=5, scale=2),  # Normally distributed around 5 passengers with SD 2\n",
    "    \"floor_call_button\": norm(loc=5, scale=2),  # Normally distributed around floor 5 with SD 2\n",
    "}\n",
    "\n",
    "# Generate data for 10 elevator trips\n",
    "data = []\n",
    "for _ in range(10):\n",
    "    sensor_data = {}\n",
    "    for sensor_type, distribution in sensor_data_types.items():\n",
    "        # Use the specified distribution to generate a value\n",
    "        if sensor_type == \"timestamp\":\n",
    "            sensor_data[sensor_type] = distribution\n",
    "        else:\n",
    "            sensor_data[sensor_type] = max(0, distribution.rvs())  # Ensure values stay within realistic ranges\n",
    "\n",
    "    data.append(sensor_data)\n",
    "\n",
    "# Create Pandas DataFrame from generated data\n",
    "df = pd.DataFrame(data)\n",
    "\n",
    "# Define CSV file path\n",
    "csv_file_path = \"elevator_data_normal.csv\"\n",
    "\n",
    "# Export DataFrame to CSV file\n",
    "df.to_csv(csv_file_path, index=False)\n",
    "\n",
    "print(f\"Data successfully written to: {csv_file_path}\")\n"
   ]
  },
  {
   "cell_type": "code",
   "execution_count": 2,
   "metadata": {},
   "outputs": [
    {
     "name": "stdout",
     "output_type": "stream",
     "text": [
      "15-12-2023_11-03-elevator_data.csv\n",
      "Data successfully written to: 15-12-2023_11-03-elevator_data.csv\n"
     ]
    }
   ],
   "source": [
    "import pandas as pd\n",
    "import random\n",
    "import numpy as np\n",
    "from datetime import datetime\n",
    "\n",
    "# Define sensor data types\n",
    "sensor_data_types = {\n",
    "    \"timestamp\": datetime,\n",
    "    \"car_position\": None,  # To be replaced with NumPy array\n",
    "    \"car_speed\": None,  # To be replaced with NumPy array\n",
    "    \"door_open_time\": np.random.uniform(2, 5, size=10000000),\n",
    "    \"motor_temperature\": np.random.uniform(30, 50, size=10000000),\n",
    "    \"current_draw\": np.random.uniform(10, 20, size=10000000),\n",
    "    \"passenger_count\": np.random.randint(1, 11, size=10000000),\n",
    "    \"floor_call_button\": np.random.randint(1, 11, size=10000000),\n",
    "}\n",
    "\n",
    "# Define car position and speed distributions (replace with specific logic)\n",
    "car_position_mean = 50\n",
    "car_position_std = 10\n",
    "car_speed_mean = 0\n",
    "car_speed_std = 2\n",
    "\n",
    "# Generate car position and speed arrays\n",
    "sensor_data_types[\"car_position\"] = np.random.normal(loc=car_position_mean, scale=car_position_std, size=10000000)\n",
    "sensor_data_types[\"car_speed\"] = np.random.normal(loc=car_speed_mean, scale=car_speed_std, size=10000000)\n",
    "\n",
    "# Create DataFrame directly\n",
    "df = pd.DataFrame(sensor_data_types)\n",
    "\n",
    "# Further optimizations depending on specific needs\n",
    "timestmp = datetime.now().strftime(\"%d-%m-%Y_%H-%M\")\n",
    "# Define CSV file path\n",
    "csv_file_path = str(timestmp)+\"-elevator_data.csv\"\n",
    "print(csv_file_path)\n",
    "# Export DataFrame to CSV file\n",
    "df.to_csv(csv_file_path, index=False)\n",
    "\n",
    "print(f\"Data successfully written to: {csv_file_path}\")\n",
    "# ...\n",
    "\n"
   ]
  },
  {
   "cell_type": "code",
   "execution_count": 3,
   "metadata": {},
   "outputs": [
    {
     "data": {
      "text/plain": [
       "{'motor_temperature': array([37.94740063, 37.46824686, 26.35252302, 29.08259358, 32.63997579,\n",
       "        33.14000866, 34.272621  , 37.07941798, 25.1064594 , 30.85567035,\n",
       "        30.82917619, 31.77654526, 29.58782665, 31.15704568, 32.16135535,\n",
       "        26.89216987, 30.19086011, 32.55206243, 29.69392894, 29.40856415,\n",
       "        31.08571839, 32.86051001, 29.73392388, 31.20357842, 29.60824778,\n",
       "        31.65549499, 36.72597854, 27.27175218, 28.53135985, 27.31362276,\n",
       "        37.29914467, 25.42170954, 24.14513701, 31.46623518, 28.87669605,\n",
       "        28.77815619, 34.02055606, 25.14021503, 29.86244447, 31.87042149,\n",
       "        26.19986426, 34.38028275, 27.4867074 , 29.57583789, 26.9195659 ,\n",
       "        27.8424342 , 25.21704386, 34.77510928, 34.21024084, 36.18761569,\n",
       "        32.84682492, 29.65032222, 34.67695954, 29.50848064, 25.51933231,\n",
       "        30.20147806, 31.65574881, 29.82960844, 30.81804037, 23.26394716,\n",
       "        25.98295835, 25.29345436, 28.43629461, 26.31294545, 30.81069766,\n",
       "        39.35246652, 32.22746266, 32.04926569, 27.77191554, 22.9413206 ,\n",
       "        33.14766024, 38.85489057, 31.09869585, 27.86737909, 32.35243373,\n",
       "        35.7236095 , 25.79166266, 30.6863734 , 33.74816266, 34.03820609,\n",
       "        26.91307451, 29.03787201, 33.63077572, 26.82370723, 27.83080528,\n",
       "        32.57800283, 21.05840638, 24.69871343, 29.71541486, 26.81479059,\n",
       "        32.22946311, 30.86789921, 30.4894838 , 25.9308778 , 30.32798003,\n",
       "        32.33398404, 36.75041137, 31.99172915, 35.60427912, 32.61012584])}"
      ]
     },
     "execution_count": 3,
     "metadata": {},
     "output_type": "execute_result"
    }
   ],
   "source": [
    "import pandas as pd\n",
    "import random\n",
    "import numpy as np\n",
    "from datetime import datetime\n",
    "import matplotlib.pyplot as plt\n",
    "\n",
    "\n",
    "# Define sensor data types\n",
    "sensor_data_types = {\n",
    "    # \"timestamp\": datetime,\n",
    "    # \"car_position\": None,  # To be replaced with NumPy array\n",
    "    # \"car_speed\": None,  # To be replaced with NumPy array\n",
    "    # \"door_open_time\": np.random.uniform(2, 5, size=10000000),\n",
    "    \"motor_temperature\": np.random.normal(30,4, size=100),\n",
    "    # \"current_draw\": np.random.uniform(10, 20, size=10000000),\n",
    "    # \"passenger_count\": np.random.randint(1, 11, size=10000000),\n",
    "    # \"floor_call_button\": np.random.randint(1, 11, size=10000000),\n",
    "}\n",
    "sensor_data_types"
   ]
  },
  {
   "cell_type": "code",
   "execution_count": 27,
   "metadata": {},
   "outputs": [
    {
     "name": "stdout",
     "output_type": "stream",
     "text": [
      "20122023094604-elevator_data.csv\n",
      "Data successfully written to: 20122023094604-elevator_data.csv\n"
     ]
    }
   ],
   "source": [
    "import pandas as pd\n",
    "import random\n",
    "import numpy as np\n",
    "from datetime import datetime\n",
    "\n",
    "humidity_mean_value = 60\n",
    "humidity_std_deviation = 8\n",
    "\n",
    "vib_mean = 18\n",
    "vib_std_deviation = 1\n",
    "\n",
    "close_open =[0.5,0.5]\n",
    "# Define sensor data types\n",
    "sensor_data_types = {\n",
    "    \"timestamp\": datetime.now().strftime(\"%d/%m/%Y %HH:%MM:\"),\n",
    "    \"RPM\" : np.full(shape=100000,fill_value=72),\n",
    "    \"Pressure\" : np.full(shape=100000,fill_value=76),\n",
    "    \"Humidity\" : np.around(np.random.normal(loc=humidity_mean_value,scale=humidity_std_deviation,size=100000),4),\n",
    "    \"Vibrations\" : np.around(np.random.normal(loc=vib_mean,scale=vib_std_deviation,size=100000),2),\n",
    "    # 1 means open and 0 means close.\n",
    "    \"Door_status\" : np.random.choice([0,1],p=close_open,size=100000),\n",
    "    \"motor_temperature\": np.around(np.random.normal(55, 8, size=100000),5),\n",
    "    \n",
    "    # \"status\" : np.where((sensor_data_types[\"motor_temperature\"] > 65) | (sensor_data_types[\"motor_temperature\"] < 35),1,0)\n",
    "\n",
    "}\n",
    "\n",
    "# Add status based on motor_temperature\n",
    "motor_temperature = sensor_data_types[\"motor_temperature\"]\n",
    "\n",
    "status = np.where((motor_temperature > 65) | (motor_temperature < 35),1,0)\n",
    "\n",
    "sensor_data_types[\"status\"] = status\n",
    "\n",
    "# Create DataFrame directly\n",
    "df = pd.DataFrame(sensor_data_types)\n",
    "\n",
    "# Further optimizations depending on specific needs\n",
    "timestmp = datetime.now().strftime(\"%d%m%Y%H%M%S\")\n",
    "# Define CSV file path\n",
    "csv_file_path = str(timestmp)+\"-elevator_data.csv\"\n",
    "print(csv_file_path)\n",
    "# Export DataFrame to CSV file\n",
    "df.to_csv(csv_file_path, index=False)\n",
    "\n",
    "print(f\"Data successfully written to: {csv_file_path}\")\n",
    "\n",
    "\n"
   ]
  },
  {
   "cell_type": "code",
   "execution_count": 16,
   "metadata": {},
   "outputs": [
    {
     "data": {
      "text/plain": [
       "(35.47460208416315, 69.9251532839138)"
      ]
     },
     "execution_count": 16,
     "metadata": {},
     "output_type": "execute_result"
    }
   ],
   "source": [
    "from datetime import datetime\n",
    "import numpy as np\n",
    "\n",
    "time = datetime.now().strftime(\"%d/%m/%Y %HH:%MM\")\n",
    "temp = np.random.normal(55,8, size=100)\n",
    "mini = min(temp)\n",
    "maxi = max(temp)\n",
    "mini,maxi"
   ]
  },
  {
   "cell_type": "code",
   "execution_count": 28,
   "metadata": {},
   "outputs": [
    {
     "data": {
      "text/plain": [
       "{'motor_temperature': array([49.30369, 65.3366 , 45.08725, 54.06406, 59.7923 ]),\n",
       " 'status': array([0, 0, 0, ..., 0, 0, 0])}"
      ]
     },
     "execution_count": 28,
     "metadata": {},
     "output_type": "execute_result"
    }
   ],
   "source": [
    "import pandas as pd\n",
    "import random\n",
    "import numpy as np\n",
    "from datetime import datetime\n",
    "\n",
    "sensor_data_types = {\n",
    "    \"motor_temperature\": np.around(np.random.normal(55, 8, size=5),5),\n",
    "    \"status\" : np.where((sensor_data_types[\"motor_temperature\"] > 65) | (sensor_data_types[\"motor_temperature\"] < 35),1,0)\n",
    "}\n",
    "\n",
    "# Add status based on motor_temperature\n",
    "# motor_temperature = sensor_data_types[\"motor_temperature\"]\n",
    "\n",
    "# status = np.where((sensor_data_types[\"motor_temperature\"] > 65) | (sensor_data_types[\"motor_temperature\"] < 35),1,0)\n",
    "\n",
    "# sensor_data_types[\"status\"] = status\n",
    "\n",
    "sensor_data_types"
   ]
  }
 ],
 "metadata": {
  "kernelspec": {
   "display_name": "Python 3",
   "language": "python",
   "name": "python3"
  },
  "language_info": {
   "codemirror_mode": {
    "name": "ipython",
    "version": 3
   },
   "file_extension": ".py",
   "mimetype": "text/x-python",
   "name": "python",
   "nbconvert_exporter": "python",
   "pygments_lexer": "ipython3",
   "version": "3.10.3"
  },
  "vscode": {
   "interpreter": {
    "hash": "26de051ba29f2982a8de78e945f0abaf191376122a1563185a90213a26c5da77"
   }
  }
 },
 "nbformat": 4,
 "nbformat_minor": 2
}
