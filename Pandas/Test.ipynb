{
 "cells": [
  {
   "cell_type": "code",
   "execution_count": 1,
   "metadata": {},
   "outputs": [],
   "source": [
    "import faker\n",
    "import random\n",
    "import datetime\n",
    "import numpy as np"
   ]
  },
  {
   "cell_type": "code",
   "execution_count": null,
   "metadata": {},
   "outputs": [],
   "source": [
    "fake = faker()\n",
    "for i in range(100):\n",
    "    data = {\n",
    "        \"Id\":i,\n",
    "        \"Date and Time\": datetime.datetime,\n",
    "        \"Temprature\": round(np.random.uniform(90,95),4)\n",
    "        \n",
    "    }"
   ]
  },
  {
   "cell_type": "code",
   "execution_count": 7,
   "metadata": {},
   "outputs": [
    {
     "name": "stdout",
     "output_type": "stream",
     "text": [
      "14-12-2023-elevator_data.csv\n",
      "Data successfully written to: 14-12-2023-elevator_data.csv\n"
     ]
    }
   ],
   "source": [
    "import pandas as pd\n",
    "import random\n",
    "import datetime\n",
    "\n",
    "# Function to generate fake sensor data\n",
    "def generate_sensor_data():\n",
    "    sensor_data_types = {\n",
    "        \"timestamp\": datetime.datetime.now(),\n",
    "        \"car_position\": random.uniform(0, 100),\n",
    "        \"car_speed\": random.uniform(-1, 5),\n",
    "        \"door_open_time\": random.uniform(2, 5),\n",
    "        \"motor_temperature\": random.uniform(30, 50),\n",
    "        \"current_draw\": random.uniform(10, 20),\n",
    "        \"passenger_count\": random.randint(1, 10),\n",
    "        \"floor_call_button\": random.randint(1, 10),\n",
    "    }\n",
    "    return sensor_data_types\n",
    "\n",
    "# Generate data for 10 elevator trips\n",
    "data = [generate_sensor_data() for _ in range(10)]\n",
    "\n",
    "# Create Pandas DataFrame from generated data\n",
    "df = pd.DataFrame(data)\n",
    "timestmp = datetime.datetime.now().strftime(\"%d-%m-%Y\")\n",
    "# Define CSV file path\n",
    "csv_file_path = str(timestmp)+\"-elevator_data.csv\"\n",
    "print(csv_file_path)\n",
    "# Export DataFrame to CSV file\n",
    "df.to_csv(csv_file_path, index=False)\n",
    "\n",
    "print(f\"Data successfully written to: {csv_file_path}\")"
   ]
  }
 ],
 "metadata": {
  "kernelspec": {
   "display_name": "Python 3",
   "language": "python",
   "name": "python3"
  },
  "language_info": {
   "codemirror_mode": {
    "name": "ipython",
    "version": 3
   },
   "file_extension": ".py",
   "mimetype": "text/x-python",
   "name": "python",
   "nbconvert_exporter": "python",
   "pygments_lexer": "ipython3",
   "version": "3.11.1"
  }
 },
 "nbformat": 4,
 "nbformat_minor": 2
}
